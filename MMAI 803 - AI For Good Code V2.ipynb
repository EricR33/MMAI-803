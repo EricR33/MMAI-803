{
 "cells": [
  {
   "cell_type": "code",
   "execution_count": 2,
   "metadata": {},
   "outputs": [
    {
     "name": "stdout",
     "output_type": "stream",
     "text": [
      "Collecting package metadata (current_repodata.json): done\n",
      "Solving environment: done\n",
      "\n",
      "## Package Plan ##\n",
      "\n",
      "  environment location: /opt/anaconda3\n",
      "\n",
      "  added / updated specs:\n",
      "    - pandas-profiling\n",
      "\n",
      "\n",
      "The following packages will be downloaded:\n",
      "\n",
      "    package                    |            build\n",
      "    ---------------------------|-----------------\n",
      "    certifi-2019.11.28         |           py37_0         156 KB  anaconda\n",
      "    pandas-profiling-1.4.1     |           py37_0          39 KB  anaconda\n",
      "    ------------------------------------------------------------\n",
      "                                           Total:         195 KB\n",
      "\n",
      "The following packages will be SUPERSEDED by a higher-priority channel:\n",
      "\n",
      "  certifi                                       conda-forge --> anaconda\n",
      "  conda              conda-forge::conda-4.8.3-py37hc8dfbb8~ --> anaconda::conda-4.8.3-py37_0\n",
      "  pandas-profiling    conda-forge::pandas-profiling-1.4.1-0 --> anaconda::pandas-profiling-1.4.1-py37_0\n",
      "\n",
      "\n",
      "\n",
      "Downloading and Extracting Packages\n",
      "certifi-2019.11.28   | 156 KB    | ##################################### | 100% \n",
      "pandas-profiling-1.4 | 39 KB     | ##################################### | 100% \n",
      "Preparing transaction: done\n",
      "Verifying transaction: done\n",
      "Executing transaction: done\n",
      "\n",
      "Note: you may need to restart the kernel to use updated packages.\n"
     ]
    }
   ],
   "source": [
    "conda install -c anaconda pandas-profiling"
   ]
  },
  {
   "cell_type": "code",
   "execution_count": 4,
   "metadata": {},
   "outputs": [
    {
     "name": "stderr",
     "output_type": "stream",
     "text": [
      "/opt/anaconda3/lib/python3.7/site-packages/tensorflow/python/framework/dtypes.py:526: FutureWarning: Passing (type, 1) or '1type' as a synonym of type is deprecated; in a future version of numpy, it will be understood as (type, (1,)) / '(1,)type'.\n",
      "  _np_qint8 = np.dtype([(\"qint8\", np.int8, 1)])\n",
      "/opt/anaconda3/lib/python3.7/site-packages/tensorflow/python/framework/dtypes.py:527: FutureWarning: Passing (type, 1) or '1type' as a synonym of type is deprecated; in a future version of numpy, it will be understood as (type, (1,)) / '(1,)type'.\n",
      "  _np_quint8 = np.dtype([(\"quint8\", np.uint8, 1)])\n",
      "/opt/anaconda3/lib/python3.7/site-packages/tensorflow/python/framework/dtypes.py:528: FutureWarning: Passing (type, 1) or '1type' as a synonym of type is deprecated; in a future version of numpy, it will be understood as (type, (1,)) / '(1,)type'.\n",
      "  _np_qint16 = np.dtype([(\"qint16\", np.int16, 1)])\n",
      "/opt/anaconda3/lib/python3.7/site-packages/tensorflow/python/framework/dtypes.py:529: FutureWarning: Passing (type, 1) or '1type' as a synonym of type is deprecated; in a future version of numpy, it will be understood as (type, (1,)) / '(1,)type'.\n",
      "  _np_quint16 = np.dtype([(\"quint16\", np.uint16, 1)])\n",
      "/opt/anaconda3/lib/python3.7/site-packages/tensorflow/python/framework/dtypes.py:530: FutureWarning: Passing (type, 1) or '1type' as a synonym of type is deprecated; in a future version of numpy, it will be understood as (type, (1,)) / '(1,)type'.\n",
      "  _np_qint32 = np.dtype([(\"qint32\", np.int32, 1)])\n",
      "/opt/anaconda3/lib/python3.7/site-packages/tensorflow/python/framework/dtypes.py:535: FutureWarning: Passing (type, 1) or '1type' as a synonym of type is deprecated; in a future version of numpy, it will be understood as (type, (1,)) / '(1,)type'.\n",
      "  np_resource = np.dtype([(\"resource\", np.ubyte, 1)])\n",
      "/opt/anaconda3/lib/python3.7/site-packages/sklearn/utils/deprecation.py:144: FutureWarning: The sklearn.metrics.classification module is  deprecated in version 0.22 and will be removed in version 0.24. The corresponding classes / functions should instead be imported from sklearn.metrics. Anything that cannot be imported from sklearn.metrics is now part of the private API.\n",
      "  warnings.warn(message, FutureWarning)\n"
     ]
    }
   ],
   "source": [
    "import numpy as np\n",
    "import pandas as pd\n",
    "import matplotlib.pyplot as plt\n",
    "import pandas_profiling\n",
    "import seaborn as sns\n",
    "\n",
    "from scipy.stats import randint\n",
    "from random import randint\n",
    "from pandas import DataFrame\n",
    "from IPython.core.interactiveshell import InteractiveShell\n",
    "InteractiveShell.ast_node_interactivity = \"all\"\n",
    "from sklearn.preprocessing import StandardScaler, MinMaxScaler, RobustScaler\n",
    "from sklearn.linear_model import LogisticRegression\n",
    "from sklearn.ensemble import RandomForestClassifier\n",
    "from sklearn import svm\n",
    "from sklearn.svm import SVC\n",
    "from sklearn.neighbors import KNeighborsClassifier\n",
    "from sklearn.tree import DecisionTreeClassifier\n",
    "from sklearn.model_selection import RandomizedSearchCV, StratifiedKFold, train_test_split, cross_val_score\n",
    "from collections import Counter\n",
    "from sklearn.datasets import make_classification\n",
    "from imblearn.under_sampling import RandomUnderSampler\n",
    "from sklearn.pipeline import Pipeline\n",
    "from sklearn.feature_selection import RFECV\n",
    "from sklearn.metrics import confusion_matrix, classification_report, roc_curve, auc, recall_score, average_precision_score, roc_auc_score, accuracy_score\n",
    "from yellowbrick.classifier import PrecisionRecallCurve\n",
    "\n",
    "from collections import Counter\n",
    "from sklearn.datasets import make_classification\n",
    "from imblearn.over_sampling import SMOTE, BorderlineSMOTE\n",
    "\n",
    "import warnings\n",
    "warnings.filterwarnings(\"ignore\")"
   ]
  },
  {
   "cell_type": "markdown",
   "metadata": {},
   "source": [
    "# Data Anaylsis"
   ]
  },
  {
   "cell_type": "code",
   "execution_count": 5,
   "metadata": {},
   "outputs": [],
   "source": [
    "df = pd.read_csv('MCI_2014_to_2019.csv')"
   ]
  },
  {
   "cell_type": "code",
   "execution_count": 6,
   "metadata": {},
   "outputs": [
    {
     "data": {
      "text/html": [
       "<div>\n",
       "<style scoped>\n",
       "    .dataframe tbody tr th:only-of-type {\n",
       "        vertical-align: middle;\n",
       "    }\n",
       "\n",
       "    .dataframe tbody tr th {\n",
       "        vertical-align: top;\n",
       "    }\n",
       "\n",
       "    .dataframe thead th {\n",
       "        text-align: right;\n",
       "    }\n",
       "</style>\n",
       "<table border=\"1\" class=\"dataframe\">\n",
       "  <thead>\n",
       "    <tr style=\"text-align: right;\">\n",
       "      <th></th>\n",
       "      <th>MCI</th>\n",
       "      <th>X</th>\n",
       "      <th>Y</th>\n",
       "      <th>Index_</th>\n",
       "      <th>event_unique_id</th>\n",
       "      <th>occurrencedate</th>\n",
       "      <th>reporteddate</th>\n",
       "      <th>premisetype</th>\n",
       "      <th>ucr_code</th>\n",
       "      <th>ucr_ext</th>\n",
       "      <th>...</th>\n",
       "      <th>occurrenceday</th>\n",
       "      <th>occurrencedayofyear</th>\n",
       "      <th>occurrencedayofweek</th>\n",
       "      <th>occurrencehour</th>\n",
       "      <th>Division</th>\n",
       "      <th>Hood_ID</th>\n",
       "      <th>Neighbourhood</th>\n",
       "      <th>Long</th>\n",
       "      <th>Lat</th>\n",
       "      <th>ObjectId</th>\n",
       "    </tr>\n",
       "  </thead>\n",
       "  <tbody>\n",
       "    <tr>\n",
       "      <th>0</th>\n",
       "      <td>Assault</td>\n",
       "      <td>-79.589356</td>\n",
       "      <td>43.758465</td>\n",
       "      <td>6371</td>\n",
       "      <td>GO-20151776190</td>\n",
       "      <td>2000-01-01T10:53:00.000Z</td>\n",
       "      <td>2015-10-15T10:53:00.000Z</td>\n",
       "      <td>Apartment</td>\n",
       "      <td>1430</td>\n",
       "      <td>100</td>\n",
       "      <td>...</td>\n",
       "      <td>1</td>\n",
       "      <td>1</td>\n",
       "      <td>Saturday</td>\n",
       "      <td>10</td>\n",
       "      <td>D23</td>\n",
       "      <td>2</td>\n",
       "      <td>Mount Olive-Silverstone-Jamestown (2)</td>\n",
       "      <td>-79.589356</td>\n",
       "      <td>43.758465</td>\n",
       "      <td>6681</td>\n",
       "    </tr>\n",
       "    <tr>\n",
       "      <th>1</th>\n",
       "      <td>Assault</td>\n",
       "      <td>-79.532608</td>\n",
       "      <td>43.720001</td>\n",
       "      <td>16152</td>\n",
       "      <td>GO-20143243077</td>\n",
       "      <td>2000-01-01T00:00:00.000Z</td>\n",
       "      <td>2014-10-06T08:28:00.000Z</td>\n",
       "      <td>House</td>\n",
       "      <td>1430</td>\n",
       "      <td>100</td>\n",
       "      <td>...</td>\n",
       "      <td>1</td>\n",
       "      <td>1</td>\n",
       "      <td>Saturday</td>\n",
       "      <td>0</td>\n",
       "      <td>D31</td>\n",
       "      <td>23</td>\n",
       "      <td>Pelmo Park-Humberlea (23)</td>\n",
       "      <td>-79.532608</td>\n",
       "      <td>43.720001</td>\n",
       "      <td>16727</td>\n",
       "    </tr>\n",
       "    <tr>\n",
       "      <th>2</th>\n",
       "      <td>Theft Over</td>\n",
       "      <td>-79.343628</td>\n",
       "      <td>43.707478</td>\n",
       "      <td>18847</td>\n",
       "      <td>GO-20141722881</td>\n",
       "      <td>2000-11-22T08:00:00.000Z</td>\n",
       "      <td>2014-03-18T12:35:00.000Z</td>\n",
       "      <td>Commercial</td>\n",
       "      <td>2130</td>\n",
       "      <td>210</td>\n",
       "      <td>...</td>\n",
       "      <td>22</td>\n",
       "      <td>327</td>\n",
       "      <td>Wednesday</td>\n",
       "      <td>8</td>\n",
       "      <td>D53</td>\n",
       "      <td>55</td>\n",
       "      <td>Thorncliffe Park (55)</td>\n",
       "      <td>-79.343628</td>\n",
       "      <td>43.707478</td>\n",
       "      <td>18289</td>\n",
       "    </tr>\n",
       "    <tr>\n",
       "      <th>3</th>\n",
       "      <td>Assault</td>\n",
       "      <td>-79.220909</td>\n",
       "      <td>43.826324</td>\n",
       "      <td>19403</td>\n",
       "      <td>GO-20142047470</td>\n",
       "      <td>2000-01-01T00:00:00.000Z</td>\n",
       "      <td>2014-05-09T20:26:00.000Z</td>\n",
       "      <td>House</td>\n",
       "      <td>1430</td>\n",
       "      <td>100</td>\n",
       "      <td>...</td>\n",
       "      <td>1</td>\n",
       "      <td>1</td>\n",
       "      <td>Saturday</td>\n",
       "      <td>0</td>\n",
       "      <td>D42</td>\n",
       "      <td>131</td>\n",
       "      <td>Rouge (131)</td>\n",
       "      <td>-79.220909</td>\n",
       "      <td>43.826324</td>\n",
       "      <td>19133</td>\n",
       "    </tr>\n",
       "    <tr>\n",
       "      <th>4</th>\n",
       "      <td>Theft Over</td>\n",
       "      <td>-79.393845</td>\n",
       "      <td>43.675167</td>\n",
       "      <td>24002</td>\n",
       "      <td>GO-20142771849</td>\n",
       "      <td>2000-08-01T12:00:00.000Z</td>\n",
       "      <td>2014-08-25T10:06:00.000Z</td>\n",
       "      <td>Other</td>\n",
       "      <td>2130</td>\n",
       "      <td>210</td>\n",
       "      <td>...</td>\n",
       "      <td>1</td>\n",
       "      <td>214</td>\n",
       "      <td>Tuesday</td>\n",
       "      <td>12</td>\n",
       "      <td>D53</td>\n",
       "      <td>95</td>\n",
       "      <td>Annex (95)</td>\n",
       "      <td>-79.393845</td>\n",
       "      <td>43.675167</td>\n",
       "      <td>24211</td>\n",
       "    </tr>\n",
       "  </tbody>\n",
       "</table>\n",
       "<p>5 rows × 29 columns</p>\n",
       "</div>"
      ],
      "text/plain": [
       "          MCI          X          Y  Index_ event_unique_id  \\\n",
       "0     Assault -79.589356  43.758465    6371  GO-20151776190   \n",
       "1     Assault -79.532608  43.720001   16152  GO-20143243077   \n",
       "2  Theft Over -79.343628  43.707478   18847  GO-20141722881   \n",
       "3     Assault -79.220909  43.826324   19403  GO-20142047470   \n",
       "4  Theft Over -79.393845  43.675167   24002  GO-20142771849   \n",
       "\n",
       "             occurrencedate              reporteddate premisetype  ucr_code  \\\n",
       "0  2000-01-01T10:53:00.000Z  2015-10-15T10:53:00.000Z   Apartment      1430   \n",
       "1  2000-01-01T00:00:00.000Z  2014-10-06T08:28:00.000Z       House      1430   \n",
       "2  2000-11-22T08:00:00.000Z  2014-03-18T12:35:00.000Z  Commercial      2130   \n",
       "3  2000-01-01T00:00:00.000Z  2014-05-09T20:26:00.000Z       House      1430   \n",
       "4  2000-08-01T12:00:00.000Z  2014-08-25T10:06:00.000Z       Other      2130   \n",
       "\n",
       "   ucr_ext  ... occurrenceday  occurrencedayofyear occurrencedayofweek  \\\n",
       "0      100  ...             1                    1          Saturday     \n",
       "1      100  ...             1                    1          Saturday     \n",
       "2      210  ...            22                  327          Wednesday    \n",
       "3      100  ...             1                    1          Saturday     \n",
       "4      210  ...             1                  214          Tuesday      \n",
       "\n",
       "   occurrencehour  Division Hood_ID                          Neighbourhood  \\\n",
       "0              10       D23       2  Mount Olive-Silverstone-Jamestown (2)   \n",
       "1               0       D31      23              Pelmo Park-Humberlea (23)   \n",
       "2               8       D53      55                  Thorncliffe Park (55)   \n",
       "3               0       D42     131                            Rouge (131)   \n",
       "4              12       D53      95                             Annex (95)   \n",
       "\n",
       "        Long        Lat  ObjectId  \n",
       "0 -79.589356  43.758465      6681  \n",
       "1 -79.532608  43.720001     16727  \n",
       "2 -79.343628  43.707478     18289  \n",
       "3 -79.220909  43.826324     19133  \n",
       "4 -79.393845  43.675167     24211  \n",
       "\n",
       "[5 rows x 29 columns]"
      ]
     },
     "execution_count": 6,
     "metadata": {},
     "output_type": "execute_result"
    },
    {
     "data": {
      "text/html": [
       "<div>\n",
       "<style scoped>\n",
       "    .dataframe tbody tr th:only-of-type {\n",
       "        vertical-align: middle;\n",
       "    }\n",
       "\n",
       "    .dataframe tbody tr th {\n",
       "        vertical-align: top;\n",
       "    }\n",
       "\n",
       "    .dataframe thead th {\n",
       "        text-align: right;\n",
       "    }\n",
       "</style>\n",
       "<table border=\"1\" class=\"dataframe\">\n",
       "  <thead>\n",
       "    <tr style=\"text-align: right;\">\n",
       "      <th></th>\n",
       "      <th>MCI</th>\n",
       "      <th>X</th>\n",
       "      <th>Y</th>\n",
       "      <th>Index_</th>\n",
       "      <th>event_unique_id</th>\n",
       "      <th>occurrencedate</th>\n",
       "      <th>reporteddate</th>\n",
       "      <th>premisetype</th>\n",
       "      <th>ucr_code</th>\n",
       "      <th>ucr_ext</th>\n",
       "      <th>...</th>\n",
       "      <th>occurrenceday</th>\n",
       "      <th>occurrencedayofyear</th>\n",
       "      <th>occurrencedayofweek</th>\n",
       "      <th>occurrencehour</th>\n",
       "      <th>Division</th>\n",
       "      <th>Hood_ID</th>\n",
       "      <th>Neighbourhood</th>\n",
       "      <th>Long</th>\n",
       "      <th>Lat</th>\n",
       "      <th>ObjectId</th>\n",
       "    </tr>\n",
       "  </thead>\n",
       "  <tbody>\n",
       "    <tr>\n",
       "      <th>206430</th>\n",
       "      <td>Assault</td>\n",
       "      <td>-79.450066</td>\n",
       "      <td>43.665993</td>\n",
       "      <td>185985</td>\n",
       "      <td>GO-2018312478</td>\n",
       "      <td>1990-02-01T00:00:00.000Z</td>\n",
       "      <td>2018-02-18T17:35:00.000Z</td>\n",
       "      <td>Apartment</td>\n",
       "      <td>1430</td>\n",
       "      <td>100</td>\n",
       "      <td>...</td>\n",
       "      <td>1</td>\n",
       "      <td>32</td>\n",
       "      <td>Thursday</td>\n",
       "      <td>0</td>\n",
       "      <td>D11</td>\n",
       "      <td>93</td>\n",
       "      <td>Dovercourt-Wallace Emerson-Junction (93)</td>\n",
       "      <td>-79.450066</td>\n",
       "      <td>43.665993</td>\n",
       "      <td>185823</td>\n",
       "    </tr>\n",
       "    <tr>\n",
       "      <th>206431</th>\n",
       "      <td>Assault</td>\n",
       "      <td>-79.300545</td>\n",
       "      <td>43.688450</td>\n",
       "      <td>186080</td>\n",
       "      <td>GO-201949831</td>\n",
       "      <td>1996-01-01T07:29:00.000Z</td>\n",
       "      <td>2019-01-09T07:29:00.000Z</td>\n",
       "      <td>Apartment</td>\n",
       "      <td>1430</td>\n",
       "      <td>100</td>\n",
       "      <td>...</td>\n",
       "      <td>1</td>\n",
       "      <td>1</td>\n",
       "      <td>Monday</td>\n",
       "      <td>7</td>\n",
       "      <td>D54</td>\n",
       "      <td>62</td>\n",
       "      <td>East End-Danforth (62)</td>\n",
       "      <td>-79.300545</td>\n",
       "      <td>43.688450</td>\n",
       "      <td>186980</td>\n",
       "    </tr>\n",
       "    <tr>\n",
       "      <th>206432</th>\n",
       "      <td>Break and Enter</td>\n",
       "      <td>-79.331467</td>\n",
       "      <td>43.771206</td>\n",
       "      <td>189050</td>\n",
       "      <td>GO-20181010560</td>\n",
       "      <td>1997-12-19T16:00:00.000Z</td>\n",
       "      <td>2018-06-04T12:54:00.000Z</td>\n",
       "      <td>Commercial</td>\n",
       "      <td>2120</td>\n",
       "      <td>200</td>\n",
       "      <td>...</td>\n",
       "      <td>19</td>\n",
       "      <td>353</td>\n",
       "      <td>Friday</td>\n",
       "      <td>16</td>\n",
       "      <td>D33</td>\n",
       "      <td>53</td>\n",
       "      <td>Henry Farm (53)</td>\n",
       "      <td>-79.331467</td>\n",
       "      <td>43.771206</td>\n",
       "      <td>189293</td>\n",
       "    </tr>\n",
       "    <tr>\n",
       "      <th>206433</th>\n",
       "      <td>Assault</td>\n",
       "      <td>-79.564217</td>\n",
       "      <td>43.676842</td>\n",
       "      <td>195930</td>\n",
       "      <td>GO-2019461576</td>\n",
       "      <td>1999-01-01T00:00:00.000Z</td>\n",
       "      <td>2019-03-13T20:25:00.000Z</td>\n",
       "      <td>Apartment</td>\n",
       "      <td>1420</td>\n",
       "      <td>100</td>\n",
       "      <td>...</td>\n",
       "      <td>1</td>\n",
       "      <td>1</td>\n",
       "      <td>Friday</td>\n",
       "      <td>0</td>\n",
       "      <td>D23</td>\n",
       "      <td>7</td>\n",
       "      <td>Willowridge-Martingrove-Richview (7)</td>\n",
       "      <td>-79.564217</td>\n",
       "      <td>43.676842</td>\n",
       "      <td>195791</td>\n",
       "    </tr>\n",
       "    <tr>\n",
       "      <th>206434</th>\n",
       "      <td>Assault</td>\n",
       "      <td>-79.564217</td>\n",
       "      <td>43.676842</td>\n",
       "      <td>195931</td>\n",
       "      <td>GO-2019461576</td>\n",
       "      <td>1999-01-01T00:00:00.000Z</td>\n",
       "      <td>2019-03-13T20:25:00.000Z</td>\n",
       "      <td>Apartment</td>\n",
       "      <td>1430</td>\n",
       "      <td>100</td>\n",
       "      <td>...</td>\n",
       "      <td>1</td>\n",
       "      <td>1</td>\n",
       "      <td>Friday</td>\n",
       "      <td>0</td>\n",
       "      <td>D23</td>\n",
       "      <td>7</td>\n",
       "      <td>Willowridge-Martingrove-Richview (7)</td>\n",
       "      <td>-79.564217</td>\n",
       "      <td>43.676842</td>\n",
       "      <td>195863</td>\n",
       "    </tr>\n",
       "  </tbody>\n",
       "</table>\n",
       "<p>5 rows × 29 columns</p>\n",
       "</div>"
      ],
      "text/plain": [
       "                    MCI          X          Y  Index_ event_unique_id  \\\n",
       "206430          Assault -79.450066  43.665993  185985   GO-2018312478   \n",
       "206431          Assault -79.300545  43.688450  186080    GO-201949831   \n",
       "206432  Break and Enter -79.331467  43.771206  189050  GO-20181010560   \n",
       "206433          Assault -79.564217  43.676842  195930   GO-2019461576   \n",
       "206434          Assault -79.564217  43.676842  195931   GO-2019461576   \n",
       "\n",
       "                  occurrencedate              reporteddate premisetype  \\\n",
       "206430  1990-02-01T00:00:00.000Z  2018-02-18T17:35:00.000Z   Apartment   \n",
       "206431  1996-01-01T07:29:00.000Z  2019-01-09T07:29:00.000Z   Apartment   \n",
       "206432  1997-12-19T16:00:00.000Z  2018-06-04T12:54:00.000Z  Commercial   \n",
       "206433  1999-01-01T00:00:00.000Z  2019-03-13T20:25:00.000Z   Apartment   \n",
       "206434  1999-01-01T00:00:00.000Z  2019-03-13T20:25:00.000Z   Apartment   \n",
       "\n",
       "        ucr_code  ucr_ext  ... occurrenceday  occurrencedayofyear  \\\n",
       "206430      1430      100  ...             1                   32   \n",
       "206431      1430      100  ...             1                    1   \n",
       "206432      2120      200  ...            19                  353   \n",
       "206433      1420      100  ...             1                    1   \n",
       "206434      1430      100  ...             1                    1   \n",
       "\n",
       "       occurrencedayofweek  occurrencehour  Division Hood_ID  \\\n",
       "206430            Thursday               0       D11      93   \n",
       "206431              Monday               7       D54      62   \n",
       "206432              Friday              16       D33      53   \n",
       "206433              Friday               0       D23       7   \n",
       "206434              Friday               0       D23       7   \n",
       "\n",
       "                                   Neighbourhood       Long        Lat  \\\n",
       "206430  Dovercourt-Wallace Emerson-Junction (93) -79.450066  43.665993   \n",
       "206431                    East End-Danforth (62) -79.300545  43.688450   \n",
       "206432                           Henry Farm (53) -79.331467  43.771206   \n",
       "206433      Willowridge-Martingrove-Richview (7) -79.564217  43.676842   \n",
       "206434      Willowridge-Martingrove-Richview (7) -79.564217  43.676842   \n",
       "\n",
       "        ObjectId  \n",
       "206430    185823  \n",
       "206431    186980  \n",
       "206432    189293  \n",
       "206433    195791  \n",
       "206434    195863  \n",
       "\n",
       "[5 rows x 29 columns]"
      ]
     },
     "execution_count": 6,
     "metadata": {},
     "output_type": "execute_result"
    },
    {
     "data": {
      "text/plain": [
       "(206435, 29)"
      ]
     },
     "execution_count": 6,
     "metadata": {},
     "output_type": "execute_result"
    }
   ],
   "source": [
    "df.head()\n",
    "df.tail()\n",
    "df.shape"
   ]
  },
  {
   "cell_type": "code",
   "execution_count": 7,
   "metadata": {},
   "outputs": [
    {
     "data": {
      "text/html": [
       "<div>\n",
       "<style scoped>\n",
       "    .dataframe tbody tr th:only-of-type {\n",
       "        vertical-align: middle;\n",
       "    }\n",
       "\n",
       "    .dataframe tbody tr th {\n",
       "        vertical-align: top;\n",
       "    }\n",
       "\n",
       "    .dataframe thead th {\n",
       "        text-align: right;\n",
       "    }\n",
       "</style>\n",
       "<table border=\"1\" class=\"dataframe\">\n",
       "  <thead>\n",
       "    <tr style=\"text-align: right;\">\n",
       "      <th></th>\n",
       "      <th>X</th>\n",
       "      <th>Y</th>\n",
       "      <th>Index_</th>\n",
       "      <th>ucr_code</th>\n",
       "      <th>ucr_ext</th>\n",
       "      <th>reportedyear</th>\n",
       "      <th>reportedday</th>\n",
       "      <th>reporteddayofyear</th>\n",
       "      <th>reportedhour</th>\n",
       "      <th>occurrenceyear</th>\n",
       "      <th>occurrenceday</th>\n",
       "      <th>occurrencedayofyear</th>\n",
       "      <th>occurrencehour</th>\n",
       "      <th>Hood_ID</th>\n",
       "      <th>Long</th>\n",
       "      <th>Lat</th>\n",
       "      <th>ObjectId</th>\n",
       "    </tr>\n",
       "  </thead>\n",
       "  <tbody>\n",
       "    <tr>\n",
       "      <th>count</th>\n",
       "      <td>206435.000000</td>\n",
       "      <td>206435.000000</td>\n",
       "      <td>206435.000000</td>\n",
       "      <td>206435.000000</td>\n",
       "      <td>206435.000000</td>\n",
       "      <td>206435.000000</td>\n",
       "      <td>206435.000000</td>\n",
       "      <td>206435.000000</td>\n",
       "      <td>206435.000000</td>\n",
       "      <td>206435.000000</td>\n",
       "      <td>206435.000000</td>\n",
       "      <td>206435.000000</td>\n",
       "      <td>206435.000000</td>\n",
       "      <td>206435.000000</td>\n",
       "      <td>206435.000000</td>\n",
       "      <td>206435.000000</td>\n",
       "      <td>206435.000000</td>\n",
       "    </tr>\n",
       "    <tr>\n",
       "      <th>mean</th>\n",
       "      <td>-79.394940</td>\n",
       "      <td>43.707379</td>\n",
       "      <td>103218.000000</td>\n",
       "      <td>1696.667755</td>\n",
       "      <td>145.973953</td>\n",
       "      <td>2016.619323</td>\n",
       "      <td>15.746855</td>\n",
       "      <td>187.139933</td>\n",
       "      <td>12.838617</td>\n",
       "      <td>2016.571487</td>\n",
       "      <td>15.507976</td>\n",
       "      <td>186.470734</td>\n",
       "      <td>12.549868</td>\n",
       "      <td>72.230223</td>\n",
       "      <td>-79.394940</td>\n",
       "      <td>43.707379</td>\n",
       "      <td>103218.000000</td>\n",
       "    </tr>\n",
       "    <tr>\n",
       "      <th>std</th>\n",
       "      <td>0.104386</td>\n",
       "      <td>0.052718</td>\n",
       "      <td>59592.795747</td>\n",
       "      <td>323.481988</td>\n",
       "      <td>51.739660</td>\n",
       "      <td>1.717764</td>\n",
       "      <td>8.770511</td>\n",
       "      <td>103.601412</td>\n",
       "      <td>6.583508</td>\n",
       "      <td>1.829090</td>\n",
       "      <td>8.905871</td>\n",
       "      <td>103.906255</td>\n",
       "      <td>7.220263</td>\n",
       "      <td>40.758939</td>\n",
       "      <td>0.104386</td>\n",
       "      <td>0.052718</td>\n",
       "      <td>59592.795747</td>\n",
       "    </tr>\n",
       "    <tr>\n",
       "      <th>min</th>\n",
       "      <td>-79.639267</td>\n",
       "      <td>43.587093</td>\n",
       "      <td>1.000000</td>\n",
       "      <td>1410.000000</td>\n",
       "      <td>100.000000</td>\n",
       "      <td>2014.000000</td>\n",
       "      <td>1.000000</td>\n",
       "      <td>1.000000</td>\n",
       "      <td>0.000000</td>\n",
       "      <td>1966.000000</td>\n",
       "      <td>1.000000</td>\n",
       "      <td>1.000000</td>\n",
       "      <td>0.000000</td>\n",
       "      <td>1.000000</td>\n",
       "      <td>-79.639267</td>\n",
       "      <td>43.587093</td>\n",
       "      <td>1.000000</td>\n",
       "    </tr>\n",
       "    <tr>\n",
       "      <th>25%</th>\n",
       "      <td>-79.471481</td>\n",
       "      <td>43.661152</td>\n",
       "      <td>51609.500000</td>\n",
       "      <td>1430.000000</td>\n",
       "      <td>100.000000</td>\n",
       "      <td>2015.000000</td>\n",
       "      <td>8.000000</td>\n",
       "      <td>100.000000</td>\n",
       "      <td>8.000000</td>\n",
       "      <td>2015.000000</td>\n",
       "      <td>8.000000</td>\n",
       "      <td>99.000000</td>\n",
       "      <td>7.000000</td>\n",
       "      <td>36.000000</td>\n",
       "      <td>-79.471481</td>\n",
       "      <td>43.661152</td>\n",
       "      <td>51609.500000</td>\n",
       "    </tr>\n",
       "    <tr>\n",
       "      <th>50%</th>\n",
       "      <td>-79.393333</td>\n",
       "      <td>43.701328</td>\n",
       "      <td>103218.000000</td>\n",
       "      <td>1450.000000</td>\n",
       "      <td>100.000000</td>\n",
       "      <td>2017.000000</td>\n",
       "      <td>16.000000</td>\n",
       "      <td>189.000000</td>\n",
       "      <td>14.000000</td>\n",
       "      <td>2017.000000</td>\n",
       "      <td>16.000000</td>\n",
       "      <td>188.000000</td>\n",
       "      <td>14.000000</td>\n",
       "      <td>76.000000</td>\n",
       "      <td>-79.393333</td>\n",
       "      <td>43.701328</td>\n",
       "      <td>103218.000000</td>\n",
       "    </tr>\n",
       "    <tr>\n",
       "      <th>75%</th>\n",
       "      <td>-79.319374</td>\n",
       "      <td>43.752068</td>\n",
       "      <td>154826.500000</td>\n",
       "      <td>2120.000000</td>\n",
       "      <td>200.000000</td>\n",
       "      <td>2018.000000</td>\n",
       "      <td>23.000000</td>\n",
       "      <td>277.000000</td>\n",
       "      <td>18.000000</td>\n",
       "      <td>2018.000000</td>\n",
       "      <td>23.000000</td>\n",
       "      <td>276.000000</td>\n",
       "      <td>19.000000</td>\n",
       "      <td>108.000000</td>\n",
       "      <td>-79.319374</td>\n",
       "      <td>43.752068</td>\n",
       "      <td>154826.500000</td>\n",
       "    </tr>\n",
       "    <tr>\n",
       "      <th>max</th>\n",
       "      <td>-79.123100</td>\n",
       "      <td>43.850788</td>\n",
       "      <td>206435.000000</td>\n",
       "      <td>2135.000000</td>\n",
       "      <td>230.000000</td>\n",
       "      <td>2019.000000</td>\n",
       "      <td>31.000000</td>\n",
       "      <td>366.000000</td>\n",
       "      <td>23.000000</td>\n",
       "      <td>2019.000000</td>\n",
       "      <td>31.000000</td>\n",
       "      <td>366.000000</td>\n",
       "      <td>23.000000</td>\n",
       "      <td>140.000000</td>\n",
       "      <td>-79.123100</td>\n",
       "      <td>43.850788</td>\n",
       "      <td>206435.000000</td>\n",
       "    </tr>\n",
       "  </tbody>\n",
       "</table>\n",
       "</div>"
      ],
      "text/plain": [
       "                   X              Y         Index_       ucr_code  \\\n",
       "count  206435.000000  206435.000000  206435.000000  206435.000000   \n",
       "mean      -79.394940      43.707379  103218.000000    1696.667755   \n",
       "std         0.104386       0.052718   59592.795747     323.481988   \n",
       "min       -79.639267      43.587093       1.000000    1410.000000   \n",
       "25%       -79.471481      43.661152   51609.500000    1430.000000   \n",
       "50%       -79.393333      43.701328  103218.000000    1450.000000   \n",
       "75%       -79.319374      43.752068  154826.500000    2120.000000   \n",
       "max       -79.123100      43.850788  206435.000000    2135.000000   \n",
       "\n",
       "             ucr_ext   reportedyear    reportedday  reporteddayofyear  \\\n",
       "count  206435.000000  206435.000000  206435.000000      206435.000000   \n",
       "mean      145.973953    2016.619323      15.746855         187.139933   \n",
       "std        51.739660       1.717764       8.770511         103.601412   \n",
       "min       100.000000    2014.000000       1.000000           1.000000   \n",
       "25%       100.000000    2015.000000       8.000000         100.000000   \n",
       "50%       100.000000    2017.000000      16.000000         189.000000   \n",
       "75%       200.000000    2018.000000      23.000000         277.000000   \n",
       "max       230.000000    2019.000000      31.000000         366.000000   \n",
       "\n",
       "        reportedhour  occurrenceyear  occurrenceday  occurrencedayofyear  \\\n",
       "count  206435.000000   206435.000000  206435.000000        206435.000000   \n",
       "mean       12.838617     2016.571487      15.507976           186.470734   \n",
       "std         6.583508        1.829090       8.905871           103.906255   \n",
       "min         0.000000     1966.000000       1.000000             1.000000   \n",
       "25%         8.000000     2015.000000       8.000000            99.000000   \n",
       "50%        14.000000     2017.000000      16.000000           188.000000   \n",
       "75%        18.000000     2018.000000      23.000000           276.000000   \n",
       "max        23.000000     2019.000000      31.000000           366.000000   \n",
       "\n",
       "       occurrencehour        Hood_ID           Long            Lat  \\\n",
       "count   206435.000000  206435.000000  206435.000000  206435.000000   \n",
       "mean        12.549868      72.230223     -79.394940      43.707379   \n",
       "std          7.220263      40.758939       0.104386       0.052718   \n",
       "min          0.000000       1.000000     -79.639267      43.587093   \n",
       "25%          7.000000      36.000000     -79.471481      43.661152   \n",
       "50%         14.000000      76.000000     -79.393333      43.701328   \n",
       "75%         19.000000     108.000000     -79.319374      43.752068   \n",
       "max         23.000000     140.000000     -79.123100      43.850788   \n",
       "\n",
       "            ObjectId  \n",
       "count  206435.000000  \n",
       "mean   103218.000000  \n",
       "std     59592.795747  \n",
       "min         1.000000  \n",
       "25%     51609.500000  \n",
       "50%    103218.000000  \n",
       "75%    154826.500000  \n",
       "max    206435.000000  "
      ]
     },
     "execution_count": 7,
     "metadata": {},
     "output_type": "execute_result"
    },
    {
     "name": "stdout",
     "output_type": "stream",
     "text": [
      "<class 'pandas.core.frame.DataFrame'>\n",
      "RangeIndex: 206435 entries, 0 to 206434\n",
      "Data columns (total 29 columns):\n",
      " #   Column               Non-Null Count   Dtype  \n",
      "---  ------               --------------   -----  \n",
      " 0   MCI                  206435 non-null  object \n",
      " 1   X                    206435 non-null  float64\n",
      " 2   Y                    206435 non-null  float64\n",
      " 3   Index_               206435 non-null  int64  \n",
      " 4   event_unique_id      206435 non-null  object \n",
      " 5   occurrencedate       206435 non-null  object \n",
      " 6   reporteddate         206435 non-null  object \n",
      " 7   premisetype          206435 non-null  object \n",
      " 8   ucr_code             206435 non-null  int64  \n",
      " 9   ucr_ext              206435 non-null  int64  \n",
      " 10  offence              206435 non-null  object \n",
      " 11  reportedyear         206435 non-null  int64  \n",
      " 12  reportedmonth        206435 non-null  object \n",
      " 13  reportedday          206435 non-null  int64  \n",
      " 14  reporteddayofyear    206435 non-null  int64  \n",
      " 15  reporteddayofweek    206435 non-null  object \n",
      " 16  reportedhour         206435 non-null  int64  \n",
      " 17  occurrenceyear       206435 non-null  int64  \n",
      " 18  occurrencemonth      206435 non-null  object \n",
      " 19  occurrenceday        206435 non-null  int64  \n",
      " 20  occurrencedayofyear  206435 non-null  int64  \n",
      " 21  occurrencedayofweek  206435 non-null  object \n",
      " 22  occurrencehour       206435 non-null  int64  \n",
      " 23  Division             206435 non-null  object \n",
      " 24  Hood_ID              206435 non-null  int64  \n",
      " 25  Neighbourhood        206435 non-null  object \n",
      " 26  Long                 206435 non-null  float64\n",
      " 27  Lat                  206435 non-null  float64\n",
      " 28  ObjectId             206435 non-null  int64  \n",
      "dtypes: float64(4), int64(13), object(12)\n",
      "memory usage: 45.7+ MB\n"
     ]
    },
    {
     "data": {
      "text/plain": [
       "['MCI',\n",
       " 'X',\n",
       " 'Y',\n",
       " 'Index_',\n",
       " 'event_unique_id',\n",
       " 'occurrencedate',\n",
       " 'reporteddate',\n",
       " 'premisetype',\n",
       " 'ucr_code',\n",
       " 'ucr_ext',\n",
       " 'offence',\n",
       " 'reportedyear',\n",
       " 'reportedmonth',\n",
       " 'reportedday',\n",
       " 'reporteddayofyear',\n",
       " 'reporteddayofweek',\n",
       " 'reportedhour',\n",
       " 'occurrenceyear',\n",
       " 'occurrencemonth',\n",
       " 'occurrenceday',\n",
       " 'occurrencedayofyear',\n",
       " 'occurrencedayofweek',\n",
       " 'occurrencehour',\n",
       " 'Division',\n",
       " 'Hood_ID',\n",
       " 'Neighbourhood',\n",
       " 'Long',\n",
       " 'Lat',\n",
       " 'ObjectId']"
      ]
     },
     "execution_count": 7,
     "metadata": {},
     "output_type": "execute_result"
    }
   ],
   "source": [
    "df.describe()\n",
    "df.info()\n",
    "list(df)"
   ]
  },
  {
   "cell_type": "code",
   "execution_count": 8,
   "metadata": {},
   "outputs": [],
   "source": [
    "# the data has very few missing values --> only in occurenceyear/occurencemonth/occurenceday/\n",
    "# occurencedayofyear/occurrenceydayofweek --> all less than 70 rows missing --> probably going to delete \n",
    "# them since the data set is big enough"
   ]
  },
  {
   "cell_type": "code",
   "execution_count": 9,
   "metadata": {},
   "outputs": [],
   "source": [
    "#pandas_profiling.ProfileReport(df)"
   ]
  },
  {
   "cell_type": "code",
   "execution_count": 10,
   "metadata": {},
   "outputs": [
    {
     "data": {
      "text/plain": [
       "array([[<matplotlib.axes._subplots.AxesSubplot object at 0x1a32d5c250>,\n",
       "        <matplotlib.axes._subplots.AxesSubplot object at 0x1a343f0b10>,\n",
       "        <matplotlib.axes._subplots.AxesSubplot object at 0x1a3442be90>,\n",
       "        <matplotlib.axes._subplots.AxesSubplot object at 0x1a34460b50>],\n",
       "       [<matplotlib.axes._subplots.AxesSubplot object at 0x1a345a2ed0>,\n",
       "        <matplotlib.axes._subplots.AxesSubplot object at 0x1a345d6b90>,\n",
       "        <matplotlib.axes._subplots.AxesSubplot object at 0x1a356723d0>,\n",
       "        <matplotlib.axes._subplots.AxesSubplot object at 0x1a357ebbd0>],\n",
       "       [<matplotlib.axes._subplots.AxesSubplot object at 0x1a357f4750>,\n",
       "        <matplotlib.axes._subplots.AxesSubplot object at 0x1a359b8110>,\n",
       "        <matplotlib.axes._subplots.AxesSubplot object at 0x1a36318f90>,\n",
       "        <matplotlib.axes._subplots.AxesSubplot object at 0x1a3634ac50>],\n",
       "       [<matplotlib.axes._subplots.AxesSubplot object at 0x1a3638cfd0>,\n",
       "        <matplotlib.axes._subplots.AxesSubplot object at 0x1a363c0c90>,\n",
       "        <matplotlib.axes._subplots.AxesSubplot object at 0x1a363fe4d0>,\n",
       "        <matplotlib.axes._subplots.AxesSubplot object at 0x1a36435cd0>],\n",
       "       [<matplotlib.axes._subplots.AxesSubplot object at 0x1a36474510>,\n",
       "        <matplotlib.axes._subplots.AxesSubplot object at 0x1a364a8d10>,\n",
       "        <matplotlib.axes._subplots.AxesSubplot object at 0x1a364e8550>,\n",
       "        <matplotlib.axes._subplots.AxesSubplot object at 0x1a3651bd50>]],\n",
       "      dtype=object)"
      ]
     },
     "execution_count": 10,
     "metadata": {},
     "output_type": "execute_result"
    },
    {
     "data": {
      "image/png": "[encoded data removed]",
      "text/plain": [
       "<Figure size 1440x1080 with 20 Axes>"
      ]
     },
     "metadata": {
      "needs_background": "light"
     },
     "output_type": "display_data"
    }
   ],
   "source": [
    "%matplotlib inline\n",
    "import matplotlib.pyplot as plt\n",
    "df.hist(bins=50, figsize=(20,15))\n",
    "#save_fig(\"attribute_histogram_plots\")\n",
    "plt.show()"
   ]
  },
  {
   "cell_type": "code",
   "execution_count": 11,
   "metadata": {},
   "outputs": [
    {
     "data": {
      "text/plain": [
       "<Figure size 1080x720 with 0 Axes>"
      ]
     },
     "execution_count": 11,
     "metadata": {},
     "output_type": "execute_result"
    },
    {
     "data": {
      "text/plain": [
       "<matplotlib.axes._subplots.AxesSubplot at 0x1a35d032d0>"
      ]
     },
     "execution_count": 11,
     "metadata": {},
     "output_type": "execute_result"
    },
    {
     "data": {
      "image/png": "[encoded data removed]",
      "text/plain": [
       "<Figure size 1080x720 with 2 Axes>"
      ]
     },
     "metadata": {
      "needs_background": "light"
     },
     "output_type": "display_data"
    }
   ],
   "source": [
    "corr = df.corr()\n",
    "\n",
    "plt.figure(figsize=(15,10))\n",
    "sns.heatmap(corr, annot=True)"
   ]
  },
  {
   "cell_type": "markdown",
   "metadata": {},
   "source": [
    "# Fill in Empty Cells"
   ]
  },
  {
   "cell_type": "markdown",
   "metadata": {},
   "source": [
    "I did part of this in excel since we the information was all in occurencedate --> we just had to copy the data over from there into occurenceyear, occurencemonth\n",
    "ALso had to convert some dates over to day of year, and the date into name of day of week ('e.g. Monday')"
   ]
  },
  {
   "cell_type": "code",
   "execution_count": null,
   "metadata": {},
   "outputs": [],
   "source": [
    "# have a bunch of highly correlated values\n",
    "# Dropping X because it's the same as latitude\n",
    "# Dropping Y because it's the same as longitude\n",
    "# Dropping ObjectID because it only indicates what row the crime is in the excel sheet -->not important\n",
    "# Dropping Index_ because it only indicates what row the crime is in the excel sheet -->not important\n",
    "# Dropping event_unique_id because it tells us nothing important about crime and is categorical\n",
    "# Dropping ucr_code and ucr_ext since they are just the code versions of the offence\n",
    "# Dropping Hood_ID since it's a redundancy of Neighborhood"
   ]
  },
  {
   "cell_type": "code",
   "execution_count": null,
   "metadata": {},
   "outputs": [],
   "source": [
    "# Questions:\n",
    "# What are we wanting to predict (target column) = offence or neighbordhood\n",
    "# what's more important --> the reported date or offence date = i dropped the reported date and add a time difference between reported and occurenace\n",
    "# I'm not sure if we should just rely on occurence day and scrap the month --> I've done this below\n",
    "# Do we need to convert the occurence day to a categorical?\n",
    "# i think we should drop the occurence day (1-30) and keep the occurence day of year (1-365)"
   ]
  },
  {
   "cell_type": "code",
   "execution_count": null,
   "metadata": {},
   "outputs": [],
   "source": [
    "# https://www.publicsafety.gc.ca/cnt/rsrcs/pblctns/2015-r018/2015-r018-en.pdf\n",
    "# this is the link we can use if we want to go more granular and use the UCR CODES to identify crimes in detail"
   ]
  },
  {
   "cell_type": "code",
   "execution_count": 12,
   "metadata": {},
   "outputs": [
    {
     "data": {
      "text/plain": [
       "['MCI',\n",
       " 'X',\n",
       " 'Y',\n",
       " 'Index_',\n",
       " 'event_unique_id',\n",
       " 'occurrencedate',\n",
       " 'reporteddate',\n",
       " 'premisetype',\n",
       " 'ucr_code',\n",
       " 'ucr_ext',\n",
       " 'offence',\n",
       " 'reportedyear',\n",
       " 'reportedmonth',\n",
       " 'reportedday',\n",
       " 'reporteddayofyear',\n",
       " 'reporteddayofweek',\n",
       " 'reportedhour',\n",
       " 'occurrenceyear',\n",
       " 'occurrencemonth',\n",
       " 'occurrenceday',\n",
       " 'occurrencedayofyear',\n",
       " 'occurrencedayofweek',\n",
       " 'occurrencehour',\n",
       " 'Division',\n",
       " 'Hood_ID',\n",
       " 'Neighbourhood',\n",
       " 'Long',\n",
       " 'Lat',\n",
       " 'ObjectId']"
      ]
     },
     "execution_count": 12,
     "metadata": {},
     "output_type": "execute_result"
    }
   ],
   "source": [
    "list(df)"
   ]
  },
  {
   "cell_type": "markdown",
   "metadata": {},
   "source": [
    "# Preprocessing"
   ]
  },
  {
   "cell_type": "code",
   "execution_count": null,
   "metadata": {},
   "outputs": [],
   "source": [
    "col_list = ['MCI','premisetype','occurrenceyear','occurrencedayofyear','occurrencemonth',\n",
    "            'occurrencedayofweek','occurrencehour','Division','Neighbourhood']\n",
    "\n",
    "\n",
    "# add back in 'offence'\n",
    "\n",
    "#col_list = ['MCI','offence','premisetype','occurrenceyear','occurrencedayofyear','occurrencemonth',\n",
    "#            'occurrencedayofweek','occurrencehour','Division','Neighbourhood']"
   ]
  },
  {
   "cell_type": "code",
   "execution_count": null,
   "metadata": {
    "scrolled": true
   },
   "outputs": [],
   "source": [
    "df1 = df[col_list]\n",
    "df1.head()"
   ]
  },
  {
   "cell_type": "markdown",
   "metadata": {},
   "source": [
    "\n"
   ]
  },
  {
   "cell_type": "code",
   "execution_count": null,
   "metadata": {},
   "outputs": [],
   "source": [
    "#There's some whitespace that needs to be stripped out of dataframe1 --> if we don't, one hot coding doubles up features\n",
    "df1['occurrencedayofweek'] = df1['occurrencedayofweek'].str.strip()"
   ]
  },
  {
   "cell_type": "code",
   "execution_count": null,
   "metadata": {},
   "outputs": [],
   "source": [
    "#resulting correlation map after getting rid of most features\n",
    "corr = df1.corr()\n",
    "\n",
    "plt.figure(figsize=(15,10))\n",
    "sns.heatmap(corr, annot=True)"
   ]
  },
  {
   "cell_type": "code",
   "execution_count": null,
   "metadata": {},
   "outputs": [],
   "source": [
    "# should we drop crime that is before 2013 --> the github does it"
   ]
  },
  {
   "cell_type": "code",
   "execution_count": null,
   "metadata": {},
   "outputs": [],
   "source": [
    "list(df1)"
   ]
  },
  {
   "cell_type": "markdown",
   "metadata": {},
   "source": [
    "# Factorize Variables --> I think One Hote Encoding Might Be Fine"
   ]
  },
  {
   "cell_type": "markdown",
   "metadata": {},
   "source": [
    "crime_var = pd.factorize(df1['MCI'])\n",
    "df1['MCI'] = crime_var[0]\n",
    "definition_list_MCI = crime_var[1] "
   ]
  },
  {
   "cell_type": "markdown",
   "metadata": {},
   "source": [
    "premise_var = pd.factorize(df1['premisetype'])\n",
    "df1['premisetype'] = premise_var[0]\n",
    "definition_list_premise = premise_var[1] "
   ]
  },
  {
   "cell_type": "markdown",
   "metadata": {},
   "source": [
    "year_var = pd.factorize(df1['occurrenceyear'])\n",
    "df1['occurrenceyear'] = year_var[0]\n",
    "definition_list_year = year_var[1]"
   ]
  },
  {
   "cell_type": "markdown",
   "metadata": {},
   "source": [
    "day_var = pd.factorize(df1['occurrencedayofyear'])\n",
    "df1['occurrencedayofyear'] = day_var[0]\n",
    "definition_list_day = day_var[1] "
   ]
  },
  {
   "cell_type": "markdown",
   "metadata": {},
   "source": [
    "month_var = pd.factorize(df1['occurrencemonth'])\n",
    "df1['occurrencemonth'] = month_var[0]\n",
    "definition_list_month = month_var[1] "
   ]
  },
  {
   "cell_type": "markdown",
   "metadata": {},
   "source": [
    "dayweek_var = pd.factorize(df1['occurrencedayofweek'])\n",
    "df1['occurrencedayofweek'] = dayweek_var[0]\n",
    "definition_list_dayweek = dayweek_var[1] "
   ]
  },
  {
   "cell_type": "markdown",
   "metadata": {},
   "source": [
    "hour_var = pd.factorize(df1['occurrencehour'])\n",
    "df1['occurrencehour'] = hour_var[0]\n",
    "definition_list_hour = hour_var[1] "
   ]
  },
  {
   "cell_type": "markdown",
   "metadata": {},
   "source": [
    "division_var = pd.factorize(df1['Division'])\n",
    "df1['Division'] = division_var[0]\n",
    "definition_list_division = division_var[1] "
   ]
  },
  {
   "cell_type": "markdown",
   "metadata": {},
   "source": [
    "neighbourhood_var = pd.factorize(df1['Neighbourhood'])\n",
    "df1['Neighbourhood'] = neighbourhood_var[0]\n",
    "definition_list_neighbourhood = neighbourhood_var[1] "
   ]
  },
  {
   "cell_type": "markdown",
   "metadata": {},
   "source": [
    "df1.head()\n",
    "df1.tail()"
   ]
  },
  {
   "cell_type": "markdown",
   "metadata": {},
   "source": [
    "max(df1['MCI'])"
   ]
  },
  {
   "cell_type": "markdown",
   "metadata": {},
   "source": [
    "# Need To Check & Deal With Class Imbalance\n",
    "\n"
   ]
  },
  {
   "cell_type": "markdown",
   "metadata": {},
   "source": [
    "# Split Dataframe into X and Y"
   ]
  },
  {
   "cell_type": "markdown",
   "metadata": {},
   "source": [
    "X = df1.iloc[:,1:]\n",
    "y = df1.iloc[:,0]\n",
    "X.head()\n",
    "y.head()"
   ]
  },
  {
   "cell_type": "code",
   "execution_count": null,
   "metadata": {},
   "outputs": [],
   "source": [
    "X = df1.drop(['MCI'], axis=1)\n",
    "y = df1['MCI']\n",
    "X.head()\n",
    "y.head()"
   ]
  },
  {
   "cell_type": "markdown",
   "metadata": {},
   "source": [
    "# One Hot Encode Remaining Features - Instead of Factorizing"
   ]
  },
  {
   "cell_type": "code",
   "execution_count": null,
   "metadata": {},
   "outputs": [],
   "source": [
    "#changing non-binary categories into binary\n",
    "X = pd.get_dummies(X)\n",
    "X.shape\n",
    "X.head()"
   ]
  },
  {
   "cell_type": "code",
   "execution_count": null,
   "metadata": {},
   "outputs": [],
   "source": [
    "# Checking here for any whitespaces or incorrect features after one hot encoding\n",
    "list(X)"
   ]
  },
  {
   "cell_type": "markdown",
   "metadata": {},
   "source": [
    "# Split Into Training & Testing"
   ]
  },
  {
   "cell_type": "code",
   "execution_count": null,
   "metadata": {},
   "outputs": [],
   "source": [
    "X_train, X_test, y_train, y_test = train_test_split(X,y,test_size = 0.2, random_state = 42)"
   ]
  },
  {
   "cell_type": "code",
   "execution_count": null,
   "metadata": {},
   "outputs": [],
   "source": [
    "X_train.head()\n",
    "y_train.head()\n",
    "X_test.head()\n",
    "y_test.head()\n",
    "X_train.shape\n",
    "y_train.shape\n",
    "X_test.shape\n",
    "y_test.shape"
   ]
  },
  {
   "cell_type": "markdown",
   "metadata": {},
   "source": [
    "# Feature Scaling"
   ]
  },
  {
   "cell_type": "code",
   "execution_count": null,
   "metadata": {},
   "outputs": [],
   "source": [
    "scaler = MinMaxScaler()\n",
    "scaler.fit(X_train)\n",
    "X_train = pd.DataFrame(scaler.transform(X_train), columns=X_train.columns)\n",
    "X_test = pd.DataFrame(scaler.transform(X_test), columns=X_test.columns)\n",
    "\n",
    "X_train.head()\n",
    "X_test.head()"
   ]
  },
  {
   "cell_type": "markdown",
   "metadata": {},
   "source": [
    "# Correlations After One Hot Encoding and Scaling"
   ]
  },
  {
   "cell_type": "markdown",
   "metadata": {},
   "source": [
    "#resulting correlation map after getting rid of most features\n",
    "corr = X_train.corr()\n",
    "\n",
    "plt.figure(figsize=(15,10))\n",
    "sns.heatmap(corr, annot=True)"
   ]
  },
  {
   "cell_type": "markdown",
   "metadata": {},
   "source": [
    "# Adjusted Mutual info Score"
   ]
  },
  {
   "cell_type": "markdown",
   "metadata": {},
   "source": [
    "from sklearn.metrics import adjusted_mutual_info_score\n",
    "\n",
    "mutual_info_scores = []\n",
    "\n",
    "#calculate each feature in X_train --> calculate the mutual info score\n",
    "for feature in X_train.columns:\n",
    "    \n",
    "    m_info = adjusted_mutual_info_score(X_train[feature], y_train)\n",
    "    \n",
    "    #append it to our list\n",
    "    mutual_info_scores.append(m_info)"
   ]
  },
  {
   "cell_type": "markdown",
   "metadata": {},
   "source": [
    "#put the mutual info score in a dataframe\n",
    "results_frame = pd.DataFrame({'feature': X_train.columns,\n",
    "                             'mutual_info_scores': mutual_info_scores\n",
    "                             })\n",
    "\n",
    "mutual_info_sorted = results_frame.sort_values(by='mutual_info_scores',ascending=[False])\n",
    "mutual_info_sorted = round(mutual_info_sorted,3).head(20)\n",
    "mutual_info_sorted\n",
    "\n"
   ]
  },
  {
   "cell_type": "markdown",
   "metadata": {},
   "source": [
    "#plots the mutual info score and features so we can find important features\n",
    "plt.figure(figsize=(15,15))\n",
    "plt.bar(X_train.columns, mutual_info_scores)\n",
    "plt.ylabel('Mutual info shared with Target')\n",
    "plt.xticks(rotation=90)\n",
    "plt.plot()"
   ]
  },
  {
   "cell_type": "markdown",
   "metadata": {},
   "source": [
    "# RFE Feature Selection --> Can't use this for multiclass analysis"
   ]
  },
  {
   "cell_type": "code",
   "execution_count": null,
   "metadata": {},
   "outputs": [],
   "source": []
  },
  {
   "cell_type": "markdown",
   "metadata": {},
   "source": [
    "# ROC Function"
   ]
  },
  {
   "cell_type": "code",
   "execution_count": null,
   "metadata": {},
   "outputs": [],
   "source": [
    "def plot_roc(clf, X_test, y_test, name, ax, show_thresholds=True):\n",
    "    \n",
    "    y_pred_proba_clf = clf.predict_proba(X_test)[:, 1]\n",
    "    # y_pred_clf = clf.predict(X_test)\n",
    "    \n",
    "    fpr, tpr, thr = roc_curve(y_test, y_pred_proba_clf)\n",
    "    clf_ROC_AUC = roc_auc_score(y_test, y_pred_proba_clf)\n",
    "    \n",
    "    ax.plot(fpr, tpr, label='{}, AUC={:.2f}'.format(name, clf_ROC_AUC));\n",
    "    ax.plot([0, 1], [0, 1], 'k--');\n",
    "    # ax.xlim([-0.05, 1.05])\n",
    "    # ax.ylim([-0.05, 1.05])\n",
    "    ax.set_xlabel('False positive rate', fontsize=18);\n",
    "    ax.set_ylabel('True positive rate', fontsize=18);\n",
    "    ax.set_title('Receiver Operating Characteristic Curve - ROC', fontsize=18)\n",
    "    ax.scatter(fpr, tpr);\n",
    "    ax.legend(loc=\"lower right\")\n",
    "    ax.tick_params(axis='both', which='major', labelsize=18);\n",
    "    ax.grid(True);"
   ]
  },
  {
   "cell_type": "markdown",
   "metadata": {},
   "source": [
    "# Performance Metrics Function"
   ]
  },
  {
   "cell_type": "code",
   "execution_count": null,
   "metadata": {},
   "outputs": [],
   "source": [
    "# Compute and print metrics\n",
    "def get_metrics(clf, X1_test, y1_test):\n",
    "    \n",
    "    y_pred_prob_clf = clf.predict_proba(X1_test)[:,1]\n",
    "    \n",
    "    y_pred_clf = clf.predict(X1_test)\n",
    "    \n",
    "    # ROC_AUC = roc_auc_score(y1_test, y_pred_clf)\n",
    "    \n",
    "    ROC_AUC = roc_auc_score(y1_test, y_pred_prob_clf)\n",
    "    \n",
    "    Accuracy = accuracy_score(y1_test, y_pred_clf)\n",
    "    \n",
    "    cm = confusion_matrix(y1_test, y_pred_clf)\n",
    "    \n",
    "    tn, fp, fn, tp = confusion_matrix(y1_test, y_pred_clf).ravel()\n",
    "    \n",
    "    FPR = fp/(fp + tn)\n",
    "    \n",
    "    clf_report = classification_report(y1_test, y_pred_clf)\n",
    "    \n",
    "    return (ROC_AUC, Accuracy, cm, tn, fp, fn, tp, FPR, clf_report)\n",
    "\n"
   ]
  },
  {
   "cell_type": "markdown",
   "metadata": {},
   "source": [
    "# Random Forest --> Don't know how to use pipelines for multiclass"
   ]
  },
  {
   "cell_type": "code",
   "execution_count": null,
   "metadata": {},
   "outputs": [],
   "source": [
    "from sklearn.tree import DecisionTreeClassifier\n",
    "\n",
    "#clf_dt = DecisionTreeClassifier(random_state=42, criterion=\"entropy\",\n",
    "#                             min_samples_split=8, min_samples_leaf=8, max_depth=49, max_leaf_nodes=20)\n",
    "\n",
    "\n",
    "clf_dt = DecisionTreeClassifier(random_state=42)\n",
    "\n",
    "\n",
    "\n",
    "clf_dt.fit(X_train, y_train)\n",
    "\n",
    "y_pred_dt = clf_dt.predict(X_test)"
   ]
  },
  {
   "cell_type": "code",
   "execution_count": null,
   "metadata": {},
   "outputs": [],
   "source": [
    "feature_names = X.columns\n",
    "class_names_dt = [str(x) for x in clf_dt.classes_]"
   ]
  },
  {
   "cell_type": "code",
   "execution_count": null,
   "metadata": {},
   "outputs": [],
   "source": [
    "clf_dt.predict_proba(X_test);\n",
    "clf_dt.predict(X_test);"
   ]
  },
  {
   "cell_type": "code",
   "execution_count": null,
   "metadata": {},
   "outputs": [],
   "source": [
    "from sklearn.metrics import classification_report\n",
    "\n",
    "print(classification_report(y_test, y_pred_dt, target_names=class_names_dt))"
   ]
  },
  {
   "cell_type": "markdown",
   "metadata": {},
   "source": [
    "# One Vs. All"
   ]
  },
  {
   "cell_type": "code",
   "execution_count": null,
   "metadata": {},
   "outputs": [],
   "source": [
    "print('Original dataset shape %s' % Counter(y))\n",
    "\n",
    "sm = SMOTE(random_state=42)\n",
    "X_res, y_res = sm.fit_resample(X, y)\n",
    "print('Resampled dataset shape %s' % Counter(y_res))\n"
   ]
  },
  {
   "cell_type": "code",
   "execution_count": null,
   "metadata": {},
   "outputs": [],
   "source": []
  },
  {
   "cell_type": "code",
   "execution_count": null,
   "metadata": {},
   "outputs": [],
   "source": []
  }
 ],
 "metadata": {
  "kernelspec": {
   "display_name": "Python 3",
   "language": "python",
   "name": "python3"
  },
  "language_info": {
   "codemirror_mode": {
    "name": "ipython",
    "version": 3
   },
   "file_extension": ".py",
   "mimetype": "text/x-python",
   "name": "python",
   "nbconvert_exporter": "python",
   "pygments_lexer": "ipython3",
   "version": "3.7.6"
  }
 },
 "nbformat": 4,
 "nbformat_minor": 2
}
